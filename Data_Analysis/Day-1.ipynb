{
 "cells": [
  {
   "cell_type": "markdown",
   "id": "e24d04fc-b6d2-4031-be54-6c326f4f37cc",
   "metadata": {},
   "source": [
    "Day 1 \n",
    "Learning Data Analysis with Python\n"
   ]
  },
  {
   "cell_type": "raw",
   "id": "2c5f7f43-23c3-4140-b51f-0816c2f9f1c9",
   "metadata": {},
   "source": [
    "I learned about how to configure miniconda on pychram and use it to run iPyhton and Jupyter notebook."
   ]
  },
  {
   "cell_type": "code",
   "execution_count": 3,
   "id": "d2e4ce6e-5795-42b8-af05-b7626fb9727b",
   "metadata": {},
   "outputs": [
    {
     "name": "stdout",
     "output_type": "stream",
     "text": [
      "Day 1 of Python\n"
     ]
    }
   ],
   "source": [
    "print(\"Day 1 of Python\")"
   ]
  },
  {
   "cell_type": "code",
   "execution_count": 4,
   "id": "0b33a40a-0a90-4ba2-8666-ec38b03e403b",
   "metadata": {},
   "outputs": [
    {
     "data": {
      "text/plain": [
       "np.__loader__\n",
       "np.load\n",
       "np.loadtxt"
      ]
     },
     "metadata": {},
     "output_type": "display_data"
    }
   ],
   "source": [
    "import numpy as np\n",
    "np.*load*?"
   ]
  },
  {
   "cell_type": "code",
   "execution_count": null,
   "id": "0f83d475-e92c-4024-845b-15ce865220d2",
   "metadata": {},
   "outputs": [],
   "source": []
  },
  {
   "cell_type": "markdown",
   "source": [],
   "metadata": {
    "collapsed": false
   },
   "id": "3ca129dbe79caad3"
  },
  {
   "cell_type": "markdown",
   "source": [
    "eqfweq"
   ],
   "metadata": {
    "collapsed": false
   },
   "id": "d66b387316a6d30d"
  },
  {
   "cell_type": "code",
   "outputs": [],
   "source": [],
   "metadata": {
    "collapsed": false
   },
   "id": "e41c4270860d3fe2"
  }
 ],
 "metadata": {
  "kernelspec": {
   "display_name": "Python 3 (ipykernel)",
   "language": "python",
   "name": "python3"
  },
  "language_info": {
   "codemirror_mode": {
    "name": "ipython",
    "version": 3
   },
   "file_extension": ".py",
   "mimetype": "text/x-python",
   "name": "python",
   "nbconvert_exporter": "python",
   "pygments_lexer": "ipython3",
   "version": "3.12.2"
  }
 },
 "nbformat": 4,
 "nbformat_minor": 5
}
